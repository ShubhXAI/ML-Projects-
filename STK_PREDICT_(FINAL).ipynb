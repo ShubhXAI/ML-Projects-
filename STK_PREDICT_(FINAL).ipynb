{
  "cells": [
    {
      "cell_type": "code",
      "execution_count": 259,
      "id": "c04c7d81",
      "metadata": {
        "id": "c04c7d81"
      },
      "outputs": [],
      "source": [
        "import pandas as pd\n",
        "import matplotlib.pyplot as plt\n",
        "import numpy as np\n",
        "import seaborn as sns\n",
        "from sklearn.preprocessing import StandardScaler\n",
        "from sklearn import metrics\n",
        "%matplotlib inline"
      ]
    },
    {
      "cell_type": "code",
      "execution_count": 260,
      "id": "e60432aa",
      "metadata": {
        "colab": {
          "base_uri": "https://localhost:8080/",
          "height": 206
        },
        "id": "e60432aa",
        "outputId": "4bccfe6d-1983-4570-c5e5-d23e5c56e408"
      },
      "outputs": [
        {
          "output_type": "execute_result",
          "data": {
            "text/plain": [
              "         Date        Open        High         Low       Close   Adj Close  \\\n",
              "0  2022-11-14  241.990005  243.910004  239.210007  241.550003  239.238754   \n",
              "1  2022-11-15  245.660004  247.000000  240.029999  241.970001  239.654739   \n",
              "2  2022-11-16  242.789993  243.800003  240.419998  241.729996  240.091751   \n",
              "3  2022-11-17  237.779999  243.250000  237.630005  241.679993  240.042084   \n",
              "4  2022-11-18  243.509995  243.740005  239.029999  241.220001  239.585220   \n",
              "\n",
              "     Volume  \n",
              "0  31123300  \n",
              "1  31390100  \n",
              "2  24093300  \n",
              "3  23123500  \n",
              "4  27613500  "
            ],
            "text/html": [
              "\n",
              "  <div id=\"df-ab96b6f3-8be7-49a3-8dd1-4ca84dccd7a6\" class=\"colab-df-container\">\n",
              "    <div>\n",
              "<style scoped>\n",
              "    .dataframe tbody tr th:only-of-type {\n",
              "        vertical-align: middle;\n",
              "    }\n",
              "\n",
              "    .dataframe tbody tr th {\n",
              "        vertical-align: top;\n",
              "    }\n",
              "\n",
              "    .dataframe thead th {\n",
              "        text-align: right;\n",
              "    }\n",
              "</style>\n",
              "<table border=\"1\" class=\"dataframe\">\n",
              "  <thead>\n",
              "    <tr style=\"text-align: right;\">\n",
              "      <th></th>\n",
              "      <th>Date</th>\n",
              "      <th>Open</th>\n",
              "      <th>High</th>\n",
              "      <th>Low</th>\n",
              "      <th>Close</th>\n",
              "      <th>Adj Close</th>\n",
              "      <th>Volume</th>\n",
              "    </tr>\n",
              "  </thead>\n",
              "  <tbody>\n",
              "    <tr>\n",
              "      <th>0</th>\n",
              "      <td>2022-11-14</td>\n",
              "      <td>241.990005</td>\n",
              "      <td>243.910004</td>\n",
              "      <td>239.210007</td>\n",
              "      <td>241.550003</td>\n",
              "      <td>239.238754</td>\n",
              "      <td>31123300</td>\n",
              "    </tr>\n",
              "    <tr>\n",
              "      <th>1</th>\n",
              "      <td>2022-11-15</td>\n",
              "      <td>245.660004</td>\n",
              "      <td>247.000000</td>\n",
              "      <td>240.029999</td>\n",
              "      <td>241.970001</td>\n",
              "      <td>239.654739</td>\n",
              "      <td>31390100</td>\n",
              "    </tr>\n",
              "    <tr>\n",
              "      <th>2</th>\n",
              "      <td>2022-11-16</td>\n",
              "      <td>242.789993</td>\n",
              "      <td>243.800003</td>\n",
              "      <td>240.419998</td>\n",
              "      <td>241.729996</td>\n",
              "      <td>240.091751</td>\n",
              "      <td>24093300</td>\n",
              "    </tr>\n",
              "    <tr>\n",
              "      <th>3</th>\n",
              "      <td>2022-11-17</td>\n",
              "      <td>237.779999</td>\n",
              "      <td>243.250000</td>\n",
              "      <td>237.630005</td>\n",
              "      <td>241.679993</td>\n",
              "      <td>240.042084</td>\n",
              "      <td>23123500</td>\n",
              "    </tr>\n",
              "    <tr>\n",
              "      <th>4</th>\n",
              "      <td>2022-11-18</td>\n",
              "      <td>243.509995</td>\n",
              "      <td>243.740005</td>\n",
              "      <td>239.029999</td>\n",
              "      <td>241.220001</td>\n",
              "      <td>239.585220</td>\n",
              "      <td>27613500</td>\n",
              "    </tr>\n",
              "  </tbody>\n",
              "</table>\n",
              "</div>\n",
              "    <div class=\"colab-df-buttons\">\n",
              "\n",
              "  <div class=\"colab-df-container\">\n",
              "    <button class=\"colab-df-convert\" onclick=\"convertToInteractive('df-ab96b6f3-8be7-49a3-8dd1-4ca84dccd7a6')\"\n",
              "            title=\"Convert this dataframe to an interactive table.\"\n",
              "            style=\"display:none;\">\n",
              "\n",
              "  <svg xmlns=\"http://www.w3.org/2000/svg\" height=\"24px\" viewBox=\"0 -960 960 960\">\n",
              "    <path d=\"M120-120v-720h720v720H120Zm60-500h600v-160H180v160Zm220 220h160v-160H400v160Zm0 220h160v-160H400v160ZM180-400h160v-160H180v160Zm440 0h160v-160H620v160ZM180-180h160v-160H180v160Zm440 0h160v-160H620v160Z\"/>\n",
              "  </svg>\n",
              "    </button>\n",
              "\n",
              "  <style>\n",
              "    .colab-df-container {\n",
              "      display:flex;\n",
              "      gap: 12px;\n",
              "    }\n",
              "\n",
              "    .colab-df-convert {\n",
              "      background-color: #E8F0FE;\n",
              "      border: none;\n",
              "      border-radius: 50%;\n",
              "      cursor: pointer;\n",
              "      display: none;\n",
              "      fill: #1967D2;\n",
              "      height: 32px;\n",
              "      padding: 0 0 0 0;\n",
              "      width: 32px;\n",
              "    }\n",
              "\n",
              "    .colab-df-convert:hover {\n",
              "      background-color: #E2EBFA;\n",
              "      box-shadow: 0px 1px 2px rgba(60, 64, 67, 0.3), 0px 1px 3px 1px rgba(60, 64, 67, 0.15);\n",
              "      fill: #174EA6;\n",
              "    }\n",
              "\n",
              "    .colab-df-buttons div {\n",
              "      margin-bottom: 4px;\n",
              "    }\n",
              "\n",
              "    [theme=dark] .colab-df-convert {\n",
              "      background-color: #3B4455;\n",
              "      fill: #D2E3FC;\n",
              "    }\n",
              "\n",
              "    [theme=dark] .colab-df-convert:hover {\n",
              "      background-color: #434B5C;\n",
              "      box-shadow: 0px 1px 3px 1px rgba(0, 0, 0, 0.15);\n",
              "      filter: drop-shadow(0px 1px 2px rgba(0, 0, 0, 0.3));\n",
              "      fill: #FFFFFF;\n",
              "    }\n",
              "  </style>\n",
              "\n",
              "    <script>\n",
              "      const buttonEl =\n",
              "        document.querySelector('#df-ab96b6f3-8be7-49a3-8dd1-4ca84dccd7a6 button.colab-df-convert');\n",
              "      buttonEl.style.display =\n",
              "        google.colab.kernel.accessAllowed ? 'block' : 'none';\n",
              "\n",
              "      async function convertToInteractive(key) {\n",
              "        const element = document.querySelector('#df-ab96b6f3-8be7-49a3-8dd1-4ca84dccd7a6');\n",
              "        const dataTable =\n",
              "          await google.colab.kernel.invokeFunction('convertToInteractive',\n",
              "                                                    [key], {});\n",
              "        if (!dataTable) return;\n",
              "\n",
              "        const docLinkHtml = 'Like what you see? Visit the ' +\n",
              "          '<a target=\"_blank\" href=https://colab.research.google.com/notebooks/data_table.ipynb>data table notebook</a>'\n",
              "          + ' to learn more about interactive tables.';\n",
              "        element.innerHTML = '';\n",
              "        dataTable['output_type'] = 'display_data';\n",
              "        await google.colab.output.renderOutput(dataTable, element);\n",
              "        const docLink = document.createElement('div');\n",
              "        docLink.innerHTML = docLinkHtml;\n",
              "        element.appendChild(docLink);\n",
              "      }\n",
              "    </script>\n",
              "  </div>\n",
              "\n",
              "\n",
              "<div id=\"df-0be4821a-97b7-49a2-ba9d-f048a2154e39\">\n",
              "  <button class=\"colab-df-quickchart\" onclick=\"quickchart('df-0be4821a-97b7-49a2-ba9d-f048a2154e39')\"\n",
              "            title=\"Suggest charts\"\n",
              "            style=\"display:none;\">\n",
              "\n",
              "<svg xmlns=\"http://www.w3.org/2000/svg\" height=\"24px\"viewBox=\"0 0 24 24\"\n",
              "     width=\"24px\">\n",
              "    <g>\n",
              "        <path d=\"M19 3H5c-1.1 0-2 .9-2 2v14c0 1.1.9 2 2 2h14c1.1 0 2-.9 2-2V5c0-1.1-.9-2-2-2zM9 17H7v-7h2v7zm4 0h-2V7h2v10zm4 0h-2v-4h2v4z\"/>\n",
              "    </g>\n",
              "</svg>\n",
              "  </button>\n",
              "\n",
              "<style>\n",
              "  .colab-df-quickchart {\n",
              "      --bg-color: #E8F0FE;\n",
              "      --fill-color: #1967D2;\n",
              "      --hover-bg-color: #E2EBFA;\n",
              "      --hover-fill-color: #174EA6;\n",
              "      --disabled-fill-color: #AAA;\n",
              "      --disabled-bg-color: #DDD;\n",
              "  }\n",
              "\n",
              "  [theme=dark] .colab-df-quickchart {\n",
              "      --bg-color: #3B4455;\n",
              "      --fill-color: #D2E3FC;\n",
              "      --hover-bg-color: #434B5C;\n",
              "      --hover-fill-color: #FFFFFF;\n",
              "      --disabled-bg-color: #3B4455;\n",
              "      --disabled-fill-color: #666;\n",
              "  }\n",
              "\n",
              "  .colab-df-quickchart {\n",
              "    background-color: var(--bg-color);\n",
              "    border: none;\n",
              "    border-radius: 50%;\n",
              "    cursor: pointer;\n",
              "    display: none;\n",
              "    fill: var(--fill-color);\n",
              "    height: 32px;\n",
              "    padding: 0;\n",
              "    width: 32px;\n",
              "  }\n",
              "\n",
              "  .colab-df-quickchart:hover {\n",
              "    background-color: var(--hover-bg-color);\n",
              "    box-shadow: 0 1px 2px rgba(60, 64, 67, 0.3), 0 1px 3px 1px rgba(60, 64, 67, 0.15);\n",
              "    fill: var(--button-hover-fill-color);\n",
              "  }\n",
              "\n",
              "  .colab-df-quickchart-complete:disabled,\n",
              "  .colab-df-quickchart-complete:disabled:hover {\n",
              "    background-color: var(--disabled-bg-color);\n",
              "    fill: var(--disabled-fill-color);\n",
              "    box-shadow: none;\n",
              "  }\n",
              "\n",
              "  .colab-df-spinner {\n",
              "    border: 2px solid var(--fill-color);\n",
              "    border-color: transparent;\n",
              "    border-bottom-color: var(--fill-color);\n",
              "    animation:\n",
              "      spin 1s steps(1) infinite;\n",
              "  }\n",
              "\n",
              "  @keyframes spin {\n",
              "    0% {\n",
              "      border-color: transparent;\n",
              "      border-bottom-color: var(--fill-color);\n",
              "      border-left-color: var(--fill-color);\n",
              "    }\n",
              "    20% {\n",
              "      border-color: transparent;\n",
              "      border-left-color: var(--fill-color);\n",
              "      border-top-color: var(--fill-color);\n",
              "    }\n",
              "    30% {\n",
              "      border-color: transparent;\n",
              "      border-left-color: var(--fill-color);\n",
              "      border-top-color: var(--fill-color);\n",
              "      border-right-color: var(--fill-color);\n",
              "    }\n",
              "    40% {\n",
              "      border-color: transparent;\n",
              "      border-right-color: var(--fill-color);\n",
              "      border-top-color: var(--fill-color);\n",
              "    }\n",
              "    60% {\n",
              "      border-color: transparent;\n",
              "      border-right-color: var(--fill-color);\n",
              "    }\n",
              "    80% {\n",
              "      border-color: transparent;\n",
              "      border-right-color: var(--fill-color);\n",
              "      border-bottom-color: var(--fill-color);\n",
              "    }\n",
              "    90% {\n",
              "      border-color: transparent;\n",
              "      border-bottom-color: var(--fill-color);\n",
              "    }\n",
              "  }\n",
              "</style>\n",
              "\n",
              "  <script>\n",
              "    async function quickchart(key) {\n",
              "      const quickchartButtonEl =\n",
              "        document.querySelector('#' + key + ' button');\n",
              "      quickchartButtonEl.disabled = true;  // To prevent multiple clicks.\n",
              "      quickchartButtonEl.classList.add('colab-df-spinner');\n",
              "      try {\n",
              "        const charts = await google.colab.kernel.invokeFunction(\n",
              "            'suggestCharts', [key], {});\n",
              "      } catch (error) {\n",
              "        console.error('Error during call to suggestCharts:', error);\n",
              "      }\n",
              "      quickchartButtonEl.classList.remove('colab-df-spinner');\n",
              "      quickchartButtonEl.classList.add('colab-df-quickchart-complete');\n",
              "    }\n",
              "    (() => {\n",
              "      let quickchartButtonEl =\n",
              "        document.querySelector('#df-0be4821a-97b7-49a2-ba9d-f048a2154e39 button');\n",
              "      quickchartButtonEl.style.display =\n",
              "        google.colab.kernel.accessAllowed ? 'block' : 'none';\n",
              "    })();\n",
              "  </script>\n",
              "</div>\n",
              "    </div>\n",
              "  </div>\n"
            ]
          },
          "metadata": {},
          "execution_count": 260
        }
      ],
      "source": [
        "#Importing The Dataset\n",
        "df = pd.read_csv('MSFT.csv')\n",
        "df.head()\n"
      ]
    },
    {
      "cell_type": "code",
      "execution_count": 261,
      "id": "92fd4e00",
      "metadata": {
        "colab": {
          "base_uri": "https://localhost:8080/"
        },
        "id": "92fd4e00",
        "outputId": "6fd9602f-b6d2-42d8-dd98-115666b58f78"
      },
      "outputs": [
        {
          "output_type": "execute_result",
          "data": {
            "text/plain": [
              "(251, 7)"
            ]
          },
          "metadata": {},
          "execution_count": 261
        }
      ],
      "source": [
        "#Checking The Shape Of The Dataset\n",
        "df.shape"
      ]
    },
    {
      "cell_type": "code",
      "execution_count": 262,
      "id": "83f92048",
      "metadata": {
        "colab": {
          "base_uri": "https://localhost:8080/"
        },
        "id": "83f92048",
        "outputId": "df3134e3-7086-46b8-e168-240eaf00d9a8"
      },
      "outputs": [
        {
          "output_type": "execute_result",
          "data": {
            "text/plain": [
              "False"
            ]
          },
          "metadata": {},
          "execution_count": 262
        }
      ],
      "source": [
        "#Checking The Null Values\n",
        "df.isnull().sum().any()"
      ]
    },
    {
      "cell_type": "code",
      "execution_count": 263,
      "id": "d45e6ad3",
      "metadata": {
        "colab": {
          "base_uri": "https://localhost:8080/"
        },
        "id": "d45e6ad3",
        "outputId": "80211847-6e9f-4949-b136-d2c7f2ad351b"
      },
      "outputs": [
        {
          "output_type": "execute_result",
          "data": {
            "text/plain": [
              "Index(['Date', 'Open', 'High', 'Low', 'Close', 'Adj Close', 'Volume'], dtype='object')"
            ]
          },
          "metadata": {},
          "execution_count": 263
        }
      ],
      "source": [
        "#Columns In The Dataset\n",
        "df.columns"
      ]
    },
    {
      "cell_type": "code",
      "execution_count": 264,
      "id": "15aa99e4",
      "metadata": {
        "colab": {
          "base_uri": "https://localhost:8080/"
        },
        "id": "15aa99e4",
        "outputId": "0ba03594-c7f2-4002-e193-98179e3d846a"
      },
      "outputs": [
        {
          "output_type": "execute_result",
          "data": {
            "text/plain": [
              "False"
            ]
          },
          "metadata": {},
          "execution_count": 264
        }
      ],
      "source": [
        "df.isnull().values.any()"
      ]
    },
    {
      "cell_type": "code",
      "execution_count": 265,
      "id": "aa1436c9",
      "metadata": {
        "colab": {
          "base_uri": "https://localhost:8080/"
        },
        "id": "aa1436c9",
        "outputId": "cca4e44e-1525-4db2-d3dd-d35e1740602d"
      },
      "outputs": [
        {
          "output_type": "stream",
          "name": "stdout",
          "text": [
            "<class 'pandas.core.frame.DataFrame'>\n",
            "RangeIndex: 251 entries, 0 to 250\n",
            "Data columns (total 7 columns):\n",
            " #   Column     Non-Null Count  Dtype  \n",
            "---  ------     --------------  -----  \n",
            " 0   Date       251 non-null    object \n",
            " 1   Open       251 non-null    float64\n",
            " 2   High       251 non-null    float64\n",
            " 3   Low        251 non-null    float64\n",
            " 4   Close      251 non-null    float64\n",
            " 5   Adj Close  251 non-null    float64\n",
            " 6   Volume     251 non-null    int64  \n",
            "dtypes: float64(5), int64(1), object(1)\n",
            "memory usage: 13.9+ KB\n"
          ]
        }
      ],
      "source": [
        "df.info()"
      ]
    },
    {
      "cell_type": "code",
      "execution_count": 266,
      "id": "8f9fc5cd",
      "metadata": {
        "colab": {
          "base_uri": "https://localhost:8080/"
        },
        "id": "8f9fc5cd",
        "outputId": "adfde1a1-7c41-4185-c3c9-ac4a9e0ffac9"
      },
      "outputs": [
        {
          "output_type": "stream",
          "name": "stdout",
          "text": [
            "               Open      High       Low     Close  Adj Close    Volume\n",
            "Open       1.000000  0.997597  0.998089  0.994779   0.994838 -0.149390\n",
            "High       0.997597  1.000000  0.997770  0.998002   0.997978 -0.128861\n",
            "Low        0.998089  0.997770  1.000000  0.997924   0.997963 -0.168743\n",
            "Close      0.994779  0.998002  0.997924  1.000000   0.999958 -0.149375\n",
            "Adj Close  0.994838  0.997978  0.997963  0.999958   1.000000 -0.151813\n",
            "Volume    -0.149390 -0.128861 -0.168743 -0.149375  -0.151813  1.000000\n"
          ]
        },
        {
          "output_type": "stream",
          "name": "stderr",
          "text": [
            "<ipython-input-266-23236a4e6045>:1: FutureWarning:\n",
            "\n",
            "The default value of numeric_only in DataFrame.corr is deprecated. In a future version, it will default to False. Select only valid columns or specify the value of numeric_only to silence this warning.\n",
            "\n"
          ]
        }
      ],
      "source": [
        "print(df.corr())"
      ]
    },
    {
      "cell_type": "code",
      "execution_count": 267,
      "id": "e311560c",
      "metadata": {
        "colab": {
          "base_uri": "https://localhost:8080/",
          "height": 601
        },
        "id": "e311560c",
        "outputId": "ff293290-8ed7-4425-911e-0d66a23a0a6c"
      },
      "outputs": [
        {
          "output_type": "stream",
          "name": "stderr",
          "text": [
            "<ipython-input-267-39fcd92b18e1>:3: FutureWarning:\n",
            "\n",
            "The default value of numeric_only in DataFrame.corr is deprecated. In a future version, it will default to False. Select only valid columns or specify the value of numeric_only to silence this warning.\n",
            "\n"
          ]
        },
        {
          "output_type": "display_data",
          "data": {
            "text/plain": [
              "<Figure size 1600x600 with 2 Axes>"
            ],
            "image/png": "[encoded data removed]"
          },
          "metadata": {}
        }
      ],
      "source": [
        "#Corelation Between The Coulumns\n",
        "plt.figure(figsize=(16,6))\n",
        "sns.heatmap(df.corr(),cmap='Blues', annot=True)\n",
        "plt.show()"
      ]
    },
    {
      "cell_type": "code",
      "execution_count": 268,
      "id": "211e9aa6",
      "metadata": {
        "colab": {
          "base_uri": "https://localhost:8080/",
          "height": 429
        },
        "id": "211e9aa6",
        "outputId": "f0d81a23-8df2-4447-fd25-8884d0f4d0ea"
      },
      "outputs": [
        {
          "output_type": "execute_result",
          "data": {
            "text/plain": [
              "<Axes: ylabel='Low'>"
            ]
          },
          "metadata": {},
          "execution_count": 268
        },
        {
          "output_type": "display_data",
          "data": {
            "text/plain": [
              "<Figure size 640x480 with 4 Axes>"
            ],
            "image/png": "[encoded data removed]"
          },
          "metadata": {}
        }
      ],
      "source": [
        "#Checking the Outliers\n",
        "f, axes = plt.subplots(1,4)\n",
        "sns.boxplot(y='Open', data=df, ax=axes[0])\n",
        "sns.boxplot(y='Close', data=df, ax=axes[1])\n",
        "sns.boxplot(y='High', data=df, ax=axes[2])\n",
        "sns.boxplot(y='Low', data=df, ax=axes[3])"
      ]
    },
    {
      "cell_type": "code",
      "execution_count": 269,
      "id": "28bdfa75",
      "metadata": {
        "colab": {
          "base_uri": "https://localhost:8080/",
          "height": 542
        },
        "id": "28bdfa75",
        "outputId": "f5023db1-a2cc-4fd8-9a74-41f208ae2e4d"
      },
      "outputs": [
        {
          "output_type": "display_data",
          "data": {
            "text/html": [
              "<html>\n",
              "<head><meta charset=\"utf-8\" /></head>\n",
              "<body>\n",
              "    <div>            <script src=\"https://cdnjs.cloudflare.com/ajax/libs/mathjax/2.7.5/MathJax.js?config=TeX-AMS-MML_SVG\"></script><script type=\"text/javascript\">if (window.MathJax && window.MathJax.Hub && window.MathJax.Hub.Config) {window.MathJax.Hub.Config({SVG: {font: \"STIX-Web\"}});}</script>                <script type=\"text/javascript\">window.PlotlyConfig = {MathJaxConfig: 'local'};</script>\n",
              "        <script charset=\"utf-8\" src=\"https://cdn.plot.ly/plotly-2.24.1.min.js\"></script>                <div id=\"8adde1ba-d316-46b5-95b7-9e270cb2442d\" class=\"plotly-graph-div\" style=\"height:525px; width:100%;\"></div>            <script type=\"text/javascript\">                                    window.PLOTLYENV=window.PLOTLYENV || {};                                    if (document.getElementById(\"8adde1ba-d316-46b5-95b7-9e270cb2442d\")) {                    Plotly.newPlot(                        \"8adde1ba-d316-46b5-95b7-9e270cb2442d\",                        [{\"close\":[241.550003,241.970001,241.729996,241.679993,241.220001,242.050003,245.029999,247.580002,247.490005,241.759995,240.330002,255.139999,254.690002,255.020004,250.199997,245.119995,244.369995,247.399994,245.419998,252.509995,256.920013,257.220001,249.009995,244.690002,240.449997,241.800003,244.429993,238.190002,238.729996,236.960007,234.529999,241.009995,239.820007,239.580002,229.100006,222.309998,224.929993,227.119995,228.850006,235.770004,238.509995,239.229996,240.350006,235.809998,231.929993,240.220001,242.580002,242.039993,240.610001,248.0,248.160004,242.710007,247.809998,252.75,264.600006,258.350006,256.769989,267.559998,266.730011,263.619995,263.100006,271.320007,272.170013,269.320007,262.149994,258.059998,252.669998,251.509995,254.770004,249.220001,250.160004,249.419998,246.270004,251.110001,255.289993,256.869995,254.149994,253.699997,252.320007,248.589996,253.919998,260.790009,265.440002,276.200012,279.429993,272.230011,273.779999,272.290009,277.660004,280.570007,276.380005,275.230011,280.51001,284.049988,288.299988,287.230011,287.179993,284.339996,291.600006,289.390015,282.829987,283.48999,289.839996,286.140015,288.799988,288.369995,288.450012,286.109985,285.76001,281.769989,275.420013,295.369995,304.829987,307.26001,305.559998,305.410004,304.399994,305.410004,310.649994,308.649994,307.0,312.309998,310.109985,308.970001,309.459991,311.73999,314.0,318.519989,318.339996,321.179993,315.26001,313.850006,325.920013,332.890015,331.209991,328.390015,332.579987,335.399994,335.940002,333.679993,323.380005,325.26001,326.790009,331.850006,334.290009,337.339996,348.100006,342.329987,338.049988,333.559998,339.709991,335.019989,328.600006,334.570007,335.850006,335.049988,340.540009,337.98999,338.149994,341.269989,337.220001,331.829987,332.470001,337.200012,342.660004,345.23999,345.730011,359.48999,355.079987,346.869995,343.769989,345.109985,350.980011,337.769989,330.720001,338.369995,335.920013,336.339996,327.5,326.660004,327.779999,330.109985,326.049988,322.230011,322.929993,321.01001,324.040009,321.859985,320.399994,316.880005,316.480011,321.880005,322.459991,327.0,319.970001,322.980011,323.700012,328.410004,328.790009,327.76001,328.660004,333.549988,332.880005,329.910004,334.269989,337.940002,331.769989,336.059998,338.700012,330.220001,329.059998,328.649994,320.769989,319.529999,317.01001,317.540009,312.140015,312.790009,313.640015,315.75,321.799988,313.390015,318.959991,319.359985,327.26001,329.820007,328.390015,332.420013,331.160004,327.730011,332.640015,332.059998,330.109985,331.320007,326.670013,329.320007,330.529999,340.670013,327.890015,329.809998,337.309998,338.109985,346.070007,348.320007,352.799988,356.529999,360.529999,363.200012,360.690002,369.670013,366.679993],\"high\":[243.910004,247.0,243.800003,243.25,243.740005,244.669998,245.309998,248.279999,248.699997,246.649994,242.789993,255.330002,256.119995,256.059998,253.820007,251.860001,246.160004,248.740005,248.309998,252.539993,263.920013,262.589996,254.199997,249.839996,245.210007,242.910004,245.619995,241.990005,238.869995,238.929993,239.720001,241.919998,239.960007,245.75,232.869995,227.550003,225.759995,231.240005,231.309998,235.949997,239.899994,239.369995,240.910004,242.380005,235.520004,240.740005,245.169998,243.949997,243.300003,248.309998,249.830002,245.600006,247.949997,255.179993,264.690002,264.200012,258.299988,268.769989,276.76001,273.980011,264.089996,274.600006,274.970001,270.730011,266.73999,260.089996,255.490005,254.339996,256.839996,251.0,252.820007,251.490005,250.929993,251.399994,255.619995,260.119995,257.690002,254.539993,259.559998,252.789993,257.910004,261.070007,266.480011,276.559998,283.329987,277.480011,275.0,281.040009,281.059998,280.630005,281.459991,276.140015,281.140015,284.459991,289.269989,288.269989,290.450012,287.149994,292.079987,289.600006,285.980011,287.01001,289.899994,288.480011,291.600006,291.76001,289.049988,289.029999,286.269989,284.950012,281.600006,299.570007,305.200012,308.929993,308.600006,309.179993,308.609985,307.76001,311.970001,310.200012,310.040009,313.0,311.119995,310.649994,309.899994,313.709991,314.429993,319.040009,318.75,322.589996,322.720001,316.5,326.899994,333.399994,335.73999,335.940002,333.529999,337.5,338.559998,335.369995,334.48999,326.640015,329.98999,332.100006,336.980011,339.040009,349.839996,351.470001,342.079987,337.730011,340.119995,337.959991,336.109985,336.149994,337.980011,336.109985,342.730011,340.899994,341.649994,342.98999,341.790009,335.230011,332.859985,341.649994,343.73999,351.429993,346.98999,366.779999,362.459991,357.970001,350.299988,346.920013,351.890015,344.670013,341.329987,340.01001,337.700012,338.540009,333.630005,329.880005,335.140015,331.109985,328.75,327.109985,328.26001,322.410004,324.059998,325.089996,324.420013,321.869995,318.380005,322.769989,326.079987,329.200012,332.980011,325.359985,326.149994,328.980011,329.809998,330.910004,331.98999,334.850006,334.459991,333.079987,336.160004,338.420013,336.790009,336.850006,340.859985,337.399994,330.399994,329.390015,329.589996,325.350006,321.450012,317.670013,315.880005,314.299988,315.480011,319.470001,321.890015,321.390015,320.040009,319.980011,329.190002,330.299988,331.100006,332.820007,333.630005,333.829987,336.140015,333.459991,335.589996,336.880005,331.920013,332.730011,331.839996,346.200012,341.630005,336.720001,339.450012,339.0,347.420013,348.829987,354.390015,357.540009,362.459991,363.869995,364.790009,370.100006,368.470001],\"low\":[239.210007,240.029999,240.419998,237.630005,239.029999,241.190002,240.710007,244.270004,246.729996,240.800003,238.210007,239.860001,250.919998,249.690002,248.059998,243.779999,242.210007,243.059998,244.160004,247.169998,253.070007,254.309998,247.339996,243.509995,238.710007,238.419998,240.110001,233.869995,233.940002,235.830002,234.169998,235.649994,236.660004,237.399994,225.960007,221.759995,219.350006,226.410004,227.330002,231.110001,233.559998,234.919998,237.089996,235.520004,230.679993,234.509995,239.649994,240.440002,230.899994,242.0,246.830002,242.199997,242.949997,245.470001,257.25,257.100006,254.779999,260.079987,266.209991,262.799988,260.660004,267.149994,269.279999,266.179993,261.899994,256.0,251.589996,250.339996,250.479996,248.100006,249.389999,248.729996,245.789993,245.610001,251.389999,255.979996,253.389999,250.809998,251.580002,247.600006,245.729996,255.860001,259.209991,263.279999,276.320007,269.850006,269.519989,272.179993,275.200012,275.279999,275.519989,272.049988,278.410004,281.480011,283.0,283.950012,285.670013,282.920013,282.029999,284.709991,281.640015,281.959991,283.170013,283.690002,286.160004,287.01001,284.540009,285.079987,283.059998,278.720001,275.369995,292.730011,295.25,303.309998,305.149994,303.910004,304.089996,303.399994,304.269989,306.089996,306.309998,307.670013,306.26001,306.600006,307.589996,309.829987,310.73999,313.720001,316.369995,318.01001,315.25,312.609985,320.0,323.880005,330.519989,327.329987,324.720001,332.549988,334.660004,332.170013,322.5,323.350006,324.410004,325.160004,330.390015,332.809998,337.200012,341.950012,335.859985,332.070007,333.339996,333.450012,328.48999,329.299988,333.809998,332.619995,337.200012,336.570007,334.730011,335.5,337.0,327.589996,327.0,335.670013,339.019989,344.309998,342.200012,342.170013,352.440002,345.369995,339.829987,342.309998,345.070007,333.109985,329.049988,333.170013,333.359985,333.700012,326.359985,325.950012,327.23999,327.519989,323.0,321.049988,321.179993,319.209991,320.079987,320.899994,319.799988,316.209991,311.549988,317.040009,321.459991,323.459991,319.959991,318.799988,321.720001,321.880005,326.450012,326.779999,326.779999,328.660004,330.179993,329.029999,329.459991,335.429993,331.480011,331.170013,336.570007,329.649994,326.359985,324.51001,320.51001,315.0,316.149994,315.0,310.019989,309.690002,309.450012,314.980011,315.179993,311.209991,314.0,314.899994,316.299988,323.179993,327.670013,329.140015,328.720001,326.359985,330.600006,327.410004,328.299988,330.910004,325.450012,324.390015,327.600006,337.619995,326.940002,328.399994,331.829987,334.690002,339.649994,344.769989,347.329987,353.350006,357.630005,360.549988,360.359985,361.070007,365.899994],\"open\":[241.990005,245.660004,242.789993,237.779999,243.509995,241.429993,243.589996,245.110001,247.309998,246.080002,241.399994,240.570007,253.869995,249.820007,252.009995,250.820007,244.830002,244.839996,244.699997,247.449997,261.690002,257.130005,253.720001,248.550003,244.860001,239.399994,241.690002,241.259995,236.110001,238.699997,236.889999,235.649994,238.210007,243.080002,232.279999,227.199997,223.0,226.449997,227.759995,231.289993,235.259995,237.0,237.970001,241.570007,233.779999,234.860001,241.100006,242.5,234.479996,243.649994,248.990005,244.509995,243.449997,248.0,258.820007,259.540009,257.440002,260.529999,273.200012,273.799988,261.529999,267.640015,272.670013,268.320007,264.019989,259.390015,254.479996,254.089996,255.559998,249.960007,252.460007,249.070007,250.759995,246.550003,252.190002,256.429993,256.299988,254.039993,255.820007,251.080002,247.399994,256.75,259.980011,265.209991,278.26001,276.980011,274.880005,273.399994,277.940002,277.23999,280.5,275.790009,278.959991,284.230011,283.730011,286.519989,287.230011,285.850006,283.209991,289.209991,285.75,284.790009,283.589996,287.0,289.929993,291.570007,285.98999,285.25,285.01001,282.089996,279.51001,296.700012,295.970001,304.01001,306.970001,307.76001,306.619995,306.23999,305.720001,310.130005,308.0,308.619995,310.100006,310.549988,309.100006,309.829987,312.290009,314.529999,316.73999,318.600006,320.029999,314.730011,323.23999,324.019989,335.230011,332.290009,325.929993,334.25,335.220001,335.329987,331.649994,323.940002,324.98999,328.579987,334.470001,334.339996,337.480011,351.320007,339.309998,336.369995,334.119995,334.359985,333.720001,331.859985,334.660004,334.709991,337.75,339.190002,335.089996,337.299988,339.320007,334.600006,331.059998,336.600006,339.559998,347.589996,345.679993,345.829987,361.75,353.570007,349.149994,345.850006,347.109985,341.440002,340.480011,333.670013,336.920013,335.190002,333.630005,326.0,331.880005,328.369995,326.959991,326.470001,326.019989,320.26001,321.390015,323.0,320.799988,320.540009,314.48999,317.929993,325.5,323.820007,332.850006,321.470001,325.660004,321.880005,328.670013,329.200012,331.309998,329.0,333.380005,331.290009,330.089996,337.23999,335.820007,331.309998,339.149994,336.920013,327.799988,326.170013,329.51001,319.26001,321.320007,316.589996,315.130005,312.299988,310.98999,317.75,316.279999,320.829987,314.029999,319.089996,316.549988,324.75,330.959991,331.209991,330.570007,332.380005,331.049988,329.589996,332.48999,332.149994,331.720001,325.470001,331.299988,345.019989,340.540009,330.429993,333.410004,338.850006,339.790009,347.23999,349.630005,353.450012,359.399994,361.679993,362.299988,361.48999,368.220001],\"x\":[\"2022-11-14\",\"2022-11-15\",\"2022-11-16\",\"2022-11-17\",\"2022-11-18\",\"2022-11-21\",\"2022-11-22\",\"2022-11-23\",\"2022-11-25\",\"2022-11-28\",\"2022-11-29\",\"2022-11-30\",\"2022-12-01\",\"2022-12-02\",\"2022-12-05\",\"2022-12-06\",\"2022-12-07\",\"2022-12-08\",\"2022-12-09\",\"2022-12-12\",\"2022-12-13\",\"2022-12-14\",\"2022-12-15\",\"2022-12-16\",\"2022-12-19\",\"2022-12-20\",\"2022-12-21\",\"2022-12-22\",\"2022-12-23\",\"2022-12-27\",\"2022-12-28\",\"2022-12-29\",\"2022-12-30\",\"2023-01-03\",\"2023-01-04\",\"2023-01-05\",\"2023-01-06\",\"2023-01-09\",\"2023-01-10\",\"2023-01-11\",\"2023-01-12\",\"2023-01-13\",\"2023-01-17\",\"2023-01-18\",\"2023-01-19\",\"2023-01-20\",\"2023-01-23\",\"2023-01-24\",\"2023-01-25\",\"2023-01-26\",\"2023-01-27\",\"2023-01-30\",\"2023-01-31\",\"2023-02-01\",\"2023-02-02\",\"2023-02-03\",\"2023-02-06\",\"2023-02-07\",\"2023-02-08\",\"2023-02-09\",\"2023-02-10\",\"2023-02-13\",\"2023-02-14\",\"2023-02-15\",\"2023-02-16\",\"2023-02-17\",\"2023-02-21\",\"2023-02-22\",\"2023-02-23\",\"2023-02-24\",\"2023-02-27\",\"2023-02-28\",\"2023-03-01\",\"2023-03-02\",\"2023-03-03\",\"2023-03-06\",\"2023-03-07\",\"2023-03-08\",\"2023-03-09\",\"2023-03-10\",\"2023-03-13\",\"2023-03-14\",\"2023-03-15\",\"2023-03-16\",\"2023-03-17\",\"2023-03-20\",\"2023-03-21\",\"2023-03-22\",\"2023-03-23\",\"2023-03-24\",\"2023-03-27\",\"2023-03-28\",\"2023-03-29\",\"2023-03-30\",\"2023-03-31\",\"2023-04-03\",\"2023-04-04\",\"2023-04-05\",\"2023-04-06\",\"2023-04-10\",\"2023-04-11\",\"2023-04-12\",\"2023-04-13\",\"2023-04-14\",\"2023-04-17\",\"2023-04-18\",\"2023-04-19\",\"2023-04-20\",\"2023-04-21\",\"2023-04-24\",\"2023-04-25\",\"2023-04-26\",\"2023-04-27\",\"2023-04-28\",\"2023-05-01\",\"2023-05-02\",\"2023-05-03\",\"2023-05-04\",\"2023-05-05\",\"2023-05-08\",\"2023-05-09\",\"2023-05-10\",\"2023-05-11\",\"2023-05-12\",\"2023-05-15\",\"2023-05-16\",\"2023-05-17\",\"2023-05-18\",\"2023-05-19\",\"2023-05-22\",\"2023-05-23\",\"2023-05-24\",\"2023-05-25\",\"2023-05-26\",\"2023-05-30\",\"2023-05-31\",\"2023-06-01\",\"2023-06-02\",\"2023-06-05\",\"2023-06-06\",\"2023-06-07\",\"2023-06-08\",\"2023-06-09\",\"2023-06-12\",\"2023-06-13\",\"2023-06-14\",\"2023-06-15\",\"2023-06-16\",\"2023-06-20\",\"2023-06-21\",\"2023-06-22\",\"2023-06-23\",\"2023-06-26\",\"2023-06-27\",\"2023-06-28\",\"2023-06-29\",\"2023-06-30\",\"2023-07-03\",\"2023-07-05\",\"2023-07-06\",\"2023-07-07\",\"2023-07-10\",\"2023-07-11\",\"2023-07-12\",\"2023-07-13\",\"2023-07-14\",\"2023-07-17\",\"2023-07-18\",\"2023-07-19\",\"2023-07-20\",\"2023-07-21\",\"2023-07-24\",\"2023-07-25\",\"2023-07-26\",\"2023-07-27\",\"2023-07-28\",\"2023-07-31\",\"2023-08-01\",\"2023-08-02\",\"2023-08-03\",\"2023-08-04\",\"2023-08-07\",\"2023-08-08\",\"2023-08-09\",\"2023-08-10\",\"2023-08-11\",\"2023-08-14\",\"2023-08-15\",\"2023-08-16\",\"2023-08-17\",\"2023-08-18\",\"2023-08-21\",\"2023-08-22\",\"2023-08-23\",\"2023-08-24\",\"2023-08-25\",\"2023-08-28\",\"2023-08-29\",\"2023-08-30\",\"2023-08-31\",\"2023-09-01\",\"2023-09-05\",\"2023-09-06\",\"2023-09-07\",\"2023-09-08\",\"2023-09-11\",\"2023-09-12\",\"2023-09-13\",\"2023-09-14\",\"2023-09-15\",\"2023-09-18\",\"2023-09-19\",\"2023-09-20\",\"2023-09-21\",\"2023-09-22\",\"2023-09-25\",\"2023-09-26\",\"2023-09-27\",\"2023-09-28\",\"2023-09-29\",\"2023-10-02\",\"2023-10-03\",\"2023-10-04\",\"2023-10-05\",\"2023-10-06\",\"2023-10-09\",\"2023-10-10\",\"2023-10-11\",\"2023-10-12\",\"2023-10-13\",\"2023-10-16\",\"2023-10-17\",\"2023-10-18\",\"2023-10-19\",\"2023-10-20\",\"2023-10-23\",\"2023-10-24\",\"2023-10-25\",\"2023-10-26\",\"2023-10-27\",\"2023-10-30\",\"2023-10-31\",\"2023-11-01\",\"2023-11-02\",\"2023-11-03\",\"2023-11-06\",\"2023-11-07\",\"2023-11-08\",\"2023-11-09\",\"2023-11-10\",\"2023-11-13\"],\"type\":\"candlestick\"}],                        {\"template\":{\"data\":{\"histogram2dcontour\":[{\"type\":\"histogram2dcontour\",\"colorbar\":{\"outlinewidth\":0,\"ticks\":\"\"},\"colorscale\":[[0.0,\"#0d0887\"],[0.1111111111111111,\"#46039f\"],[0.2222222222222222,\"#7201a8\"],[0.3333333333333333,\"#9c179e\"],[0.4444444444444444,\"#bd3786\"],[0.5555555555555556,\"#d8576b\"],[0.6666666666666666,\"#ed7953\"],[0.7777777777777778,\"#fb9f3a\"],[0.8888888888888888,\"#fdca26\"],[1.0,\"#f0f921\"]]}],\"choropleth\":[{\"type\":\"choropleth\",\"colorbar\":{\"outlinewidth\":0,\"ticks\":\"\"}}],\"histogram2d\":[{\"type\":\"histogram2d\",\"colorbar\":{\"outlinewidth\":0,\"ticks\":\"\"},\"colorscale\":[[0.0,\"#0d0887\"],[0.1111111111111111,\"#46039f\"],[0.2222222222222222,\"#7201a8\"],[0.3333333333333333,\"#9c179e\"],[0.4444444444444444,\"#bd3786\"],[0.5555555555555556,\"#d8576b\"],[0.6666666666666666,\"#ed7953\"],[0.7777777777777778,\"#fb9f3a\"],[0.8888888888888888,\"#fdca26\"],[1.0,\"#f0f921\"]]}],\"heatmap\":[{\"type\":\"heatmap\",\"colorbar\":{\"outlinewidth\":0,\"ticks\":\"\"},\"colorscale\":[[0.0,\"#0d0887\"],[0.1111111111111111,\"#46039f\"],[0.2222222222222222,\"#7201a8\"],[0.3333333333333333,\"#9c179e\"],[0.4444444444444444,\"#bd3786\"],[0.5555555555555556,\"#d8576b\"],[0.6666666666666666,\"#ed7953\"],[0.7777777777777778,\"#fb9f3a\"],[0.8888888888888888,\"#fdca26\"],[1.0,\"#f0f921\"]]}],\"heatmapgl\":[{\"type\":\"heatmapgl\",\"colorbar\":{\"outlinewidth\":0,\"ticks\":\"\"},\"colorscale\":[[0.0,\"#0d0887\"],[0.1111111111111111,\"#46039f\"],[0.2222222222222222,\"#7201a8\"],[0.3333333333333333,\"#9c179e\"],[0.4444444444444444,\"#bd3786\"],[0.5555555555555556,\"#d8576b\"],[0.6666666666666666,\"#ed7953\"],[0.7777777777777778,\"#fb9f3a\"],[0.8888888888888888,\"#fdca26\"],[1.0,\"#f0f921\"]]}],\"contourcarpet\":[{\"type\":\"contourcarpet\",\"colorbar\":{\"outlinewidth\":0,\"ticks\":\"\"}}],\"contour\":[{\"type\":\"contour\",\"colorbar\":{\"outlinewidth\":0,\"ticks\":\"\"},\"colorscale\":[[0.0,\"#0d0887\"],[0.1111111111111111,\"#46039f\"],[0.2222222222222222,\"#7201a8\"],[0.3333333333333333,\"#9c179e\"],[0.4444444444444444,\"#bd3786\"],[0.5555555555555556,\"#d8576b\"],[0.6666666666666666,\"#ed7953\"],[0.7777777777777778,\"#fb9f3a\"],[0.8888888888888888,\"#fdca26\"],[1.0,\"#f0f921\"]]}],\"surface\":[{\"type\":\"surface\",\"colorbar\":{\"outlinewidth\":0,\"ticks\":\"\"},\"colorscale\":[[0.0,\"#0d0887\"],[0.1111111111111111,\"#46039f\"],[0.2222222222222222,\"#7201a8\"],[0.3333333333333333,\"#9c179e\"],[0.4444444444444444,\"#bd3786\"],[0.5555555555555556,\"#d8576b\"],[0.6666666666666666,\"#ed7953\"],[0.7777777777777778,\"#fb9f3a\"],[0.8888888888888888,\"#fdca26\"],[1.0,\"#f0f921\"]]}],\"mesh3d\":[{\"type\":\"mesh3d\",\"colorbar\":{\"outlinewidth\":0,\"ticks\":\"\"}}],\"scatter\":[{\"fillpattern\":{\"fillmode\":\"overlay\",\"size\":10,\"solidity\":0.2},\"type\":\"scatter\"}],\"parcoords\":[{\"type\":\"parcoords\",\"line\":{\"colorbar\":{\"outlinewidth\":0,\"ticks\":\"\"}}}],\"scatterpolargl\":[{\"type\":\"scatterpolargl\",\"marker\":{\"colorbar\":{\"outlinewidth\":0,\"ticks\":\"\"}}}],\"bar\":[{\"error_x\":{\"color\":\"#2a3f5f\"},\"error_y\":{\"color\":\"#2a3f5f\"},\"marker\":{\"line\":{\"color\":\"#E5ECF6\",\"width\":0.5},\"pattern\":{\"fillmode\":\"overlay\",\"size\":10,\"solidity\":0.2}},\"type\":\"bar\"}],\"scattergeo\":[{\"type\":\"scattergeo\",\"marker\":{\"colorbar\":{\"outlinewidth\":0,\"ticks\":\"\"}}}],\"scatterpolar\":[{\"type\":\"scatterpolar\",\"marker\":{\"colorbar\":{\"outlinewidth\":0,\"ticks\":\"\"}}}],\"histogram\":[{\"marker\":{\"pattern\":{\"fillmode\":\"overlay\",\"size\":10,\"solidity\":0.2}},\"type\":\"histogram\"}],\"scattergl\":[{\"type\":\"scattergl\",\"marker\":{\"colorbar\":{\"outlinewidth\":0,\"ticks\":\"\"}}}],\"scatter3d\":[{\"type\":\"scatter3d\",\"line\":{\"colorbar\":{\"outlinewidth\":0,\"ticks\":\"\"}},\"marker\":{\"colorbar\":{\"outlinewidth\":0,\"ticks\":\"\"}}}],\"scattermapbox\":[{\"type\":\"scattermapbox\",\"marker\":{\"colorbar\":{\"outlinewidth\":0,\"ticks\":\"\"}}}],\"scatterternary\":[{\"type\":\"scatterternary\",\"marker\":{\"colorbar\":{\"outlinewidth\":0,\"ticks\":\"\"}}}],\"scattercarpet\":[{\"type\":\"scattercarpet\",\"marker\":{\"colorbar\":{\"outlinewidth\":0,\"ticks\":\"\"}}}],\"carpet\":[{\"aaxis\":{\"endlinecolor\":\"#2a3f5f\",\"gridcolor\":\"white\",\"linecolor\":\"white\",\"minorgridcolor\":\"white\",\"startlinecolor\":\"#2a3f5f\"},\"baxis\":{\"endlinecolor\":\"#2a3f5f\",\"gridcolor\":\"white\",\"linecolor\":\"white\",\"minorgridcolor\":\"white\",\"startlinecolor\":\"#2a3f5f\"},\"type\":\"carpet\"}],\"table\":[{\"cells\":{\"fill\":{\"color\":\"#EBF0F8\"},\"line\":{\"color\":\"white\"}},\"header\":{\"fill\":{\"color\":\"#C8D4E3\"},\"line\":{\"color\":\"white\"}},\"type\":\"table\"}],\"barpolar\":[{\"marker\":{\"line\":{\"color\":\"#E5ECF6\",\"width\":0.5},\"pattern\":{\"fillmode\":\"overlay\",\"size\":10,\"solidity\":0.2}},\"type\":\"barpolar\"}],\"pie\":[{\"automargin\":true,\"type\":\"pie\"}]},\"layout\":{\"autotypenumbers\":\"strict\",\"colorway\":[\"#636efa\",\"#EF553B\",\"#00cc96\",\"#ab63fa\",\"#FFA15A\",\"#19d3f3\",\"#FF6692\",\"#B6E880\",\"#FF97FF\",\"#FECB52\"],\"font\":{\"color\":\"#2a3f5f\"},\"hovermode\":\"closest\",\"hoverlabel\":{\"align\":\"left\"},\"paper_bgcolor\":\"white\",\"plot_bgcolor\":\"#E5ECF6\",\"polar\":{\"bgcolor\":\"#E5ECF6\",\"angularaxis\":{\"gridcolor\":\"white\",\"linecolor\":\"white\",\"ticks\":\"\"},\"radialaxis\":{\"gridcolor\":\"white\",\"linecolor\":\"white\",\"ticks\":\"\"}},\"ternary\":{\"bgcolor\":\"#E5ECF6\",\"aaxis\":{\"gridcolor\":\"white\",\"linecolor\":\"white\",\"ticks\":\"\"},\"baxis\":{\"gridcolor\":\"white\",\"linecolor\":\"white\",\"ticks\":\"\"},\"caxis\":{\"gridcolor\":\"white\",\"linecolor\":\"white\",\"ticks\":\"\"}},\"coloraxis\":{\"colorbar\":{\"outlinewidth\":0,\"ticks\":\"\"}},\"colorscale\":{\"sequential\":[[0.0,\"#0d0887\"],[0.1111111111111111,\"#46039f\"],[0.2222222222222222,\"#7201a8\"],[0.3333333333333333,\"#9c179e\"],[0.4444444444444444,\"#bd3786\"],[0.5555555555555556,\"#d8576b\"],[0.6666666666666666,\"#ed7953\"],[0.7777777777777778,\"#fb9f3a\"],[0.8888888888888888,\"#fdca26\"],[1.0,\"#f0f921\"]],\"sequentialminus\":[[0.0,\"#0d0887\"],[0.1111111111111111,\"#46039f\"],[0.2222222222222222,\"#7201a8\"],[0.3333333333333333,\"#9c179e\"],[0.4444444444444444,\"#bd3786\"],[0.5555555555555556,\"#d8576b\"],[0.6666666666666666,\"#ed7953\"],[0.7777777777777778,\"#fb9f3a\"],[0.8888888888888888,\"#fdca26\"],[1.0,\"#f0f921\"]],\"diverging\":[[0,\"#8e0152\"],[0.1,\"#c51b7d\"],[0.2,\"#de77ae\"],[0.3,\"#f1b6da\"],[0.4,\"#fde0ef\"],[0.5,\"#f7f7f7\"],[0.6,\"#e6f5d0\"],[0.7,\"#b8e186\"],[0.8,\"#7fbc41\"],[0.9,\"#4d9221\"],[1,\"#276419\"]]},\"xaxis\":{\"gridcolor\":\"white\",\"linecolor\":\"white\",\"ticks\":\"\",\"title\":{\"standoff\":15},\"zerolinecolor\":\"white\",\"automargin\":true,\"zerolinewidth\":2},\"yaxis\":{\"gridcolor\":\"white\",\"linecolor\":\"white\",\"ticks\":\"\",\"title\":{\"standoff\":15},\"zerolinecolor\":\"white\",\"automargin\":true,\"zerolinewidth\":2},\"scene\":{\"xaxis\":{\"backgroundcolor\":\"#E5ECF6\",\"gridcolor\":\"white\",\"linecolor\":\"white\",\"showbackground\":true,\"ticks\":\"\",\"zerolinecolor\":\"white\",\"gridwidth\":2},\"yaxis\":{\"backgroundcolor\":\"#E5ECF6\",\"gridcolor\":\"white\",\"linecolor\":\"white\",\"showbackground\":true,\"ticks\":\"\",\"zerolinecolor\":\"white\",\"gridwidth\":2},\"zaxis\":{\"backgroundcolor\":\"#E5ECF6\",\"gridcolor\":\"white\",\"linecolor\":\"white\",\"showbackground\":true,\"ticks\":\"\",\"zerolinecolor\":\"white\",\"gridwidth\":2}},\"shapedefaults\":{\"line\":{\"color\":\"#2a3f5f\"}},\"annotationdefaults\":{\"arrowcolor\":\"#2a3f5f\",\"arrowhead\":0,\"arrowwidth\":1},\"geo\":{\"bgcolor\":\"white\",\"landcolor\":\"#E5ECF6\",\"subunitcolor\":\"white\",\"showland\":true,\"showlakes\":true,\"lakecolor\":\"white\"},\"title\":{\"x\":0.05},\"mapbox\":{\"style\":\"light\"}}},\"xaxis\":{\"rangeslider\":{\"visible\":false}},\"title\":{\"text\":\"Tesla Stock Price Analysis\"}},                        {\"responsive\": true}                    ).then(function(){\n",
              "                            \n",
              "var gd = document.getElementById('8adde1ba-d316-46b5-95b7-9e270cb2442d');\n",
              "var x = new MutationObserver(function (mutations, observer) {{\n",
              "        var display = window.getComputedStyle(gd).display;\n",
              "        if (!display || display === 'none') {{\n",
              "            console.log([gd, 'removed!']);\n",
              "            Plotly.purge(gd);\n",
              "            observer.disconnect();\n",
              "        }}\n",
              "}});\n",
              "\n",
              "// Listen for the removal of the full notebook cells\n",
              "var notebookContainer = gd.closest('#notebook-container');\n",
              "if (notebookContainer) {{\n",
              "    x.observe(notebookContainer, {childList: true});\n",
              "}}\n",
              "\n",
              "// Listen for the clearing of the current output cell\n",
              "var outputEl = gd.closest('.output');\n",
              "if (outputEl) {{\n",
              "    x.observe(outputEl, {childList: true});\n",
              "}}\n",
              "\n",
              "                        })                };                            </script>        </div>\n",
              "</body>\n",
              "</html>"
            ]
          },
          "metadata": {}
        }
      ],
      "source": [
        "#Plotting The Graph Of The Dataset\n",
        "import plotly.graph_objects as go\n",
        "figure = go.Figure(data=[go.Candlestick(x=df[\"Date\"],\n",
        "                                       open=df['Open'],high=df['High'],\n",
        "                                       low=df['Low'], close=df[\"Close\"])])\n",
        "figure.update_layout(title='Tesla Stock Price Analysis', xaxis_rangeslider_visible=False)"
      ]
    },
    {
      "cell_type": "markdown",
      "id": "a36f54c5",
      "metadata": {
        "id": "a36f54c5"
      },
      "source": [
        "##Split The Dataset"
      ]
    },
    {
      "cell_type": "code",
      "execution_count": 270,
      "id": "045b8b54",
      "metadata": {
        "id": "045b8b54"
      },
      "outputs": [],
      "source": [
        "X = df[['Open','High','Low','Volume']].values\n",
        "y = df[\"Close\"].values"
      ]
    },
    {
      "cell_type": "markdown",
      "id": "4b2f5c5d",
      "metadata": {
        "id": "4b2f5c5d"
      },
      "source": [
        "Split the data 80% and 20% testing"
      ]
    },
    {
      "cell_type": "code",
      "execution_count": 271,
      "id": "bcbd0dda",
      "metadata": {
        "id": "bcbd0dda"
      },
      "outputs": [],
      "source": [
        "from sklearn.model_selection import train_test_split\n",
        "X_train,X_test,y_train,y_test = train_test_split(X,y,test_size=0.2,random_state=0)"
      ]
    },
    {
      "cell_type": "code",
      "execution_count": 272,
      "id": "fab3ff16",
      "metadata": {
        "colab": {
          "base_uri": "https://localhost:8080/"
        },
        "id": "fab3ff16",
        "outputId": "baf79f84-b1a0-47e1-d6d7-6a676fd9e761"
      },
      "outputs": [
        {
          "output_type": "stream",
          "name": "stdout",
          "text": [
            "Train (200, 4)\n",
            "Test (51, 4)\n"
          ]
        }
      ],
      "source": [
        "print('Train',X_train.shape)\n",
        "print('Test',X_test.shape)"
      ]
    },
    {
      "cell_type": "code",
      "execution_count": 273,
      "id": "57e49ad0",
      "metadata": {
        "id": "57e49ad0"
      },
      "outputs": [],
      "source": [
        "from sklearn.linear_model import LinearRegression\n",
        "from sklearn.metrics import confusion_matrix, accuracy_score\n",
        "\n",
        "regressor = LinearRegression()\n",
        "model=regressor.fit(X_train,y_train)\n",
        "y_pred=regressor.predict(X_test)"
      ]
    },
    {
      "cell_type": "code",
      "source": [
        "predicted = regressor.predict(X_test)\n",
        "print(predicted)"
      ],
      "metadata": {
        "colab": {
          "base_uri": "https://localhost:8080/"
        },
        "id": "NcH927CDB1hx",
        "outputId": "5e308ab8-9399-4c91-ed5d-3ef12484d1ea"
      },
      "id": "NcH927CDB1hx",
      "execution_count": 274,
      "outputs": [
        {
          "output_type": "stream",
          "name": "stdout",
          "text": [
            "[333.2220471  307.90675212 280.69356719 340.1259738  333.93192074\n",
            " 329.19082126 331.27040897 272.78038035 268.8698537  333.11935418\n",
            " 334.26667067 330.98267635 284.78492689 323.12681611 306.35263122\n",
            " 250.12643043 334.53133675 331.00871114 327.54190094 288.83687744\n",
            " 338.50594946 239.77968011 329.67338293 295.81960308 328.7133631\n",
            " 277.38934579 248.56789219 261.58939403 356.73336881 230.85337375\n",
            " 321.9255518  255.45114082 277.98183909 328.52003875 335.77514963\n",
            " 335.55843809 343.89304965 244.40610885 249.10873534 312.9734202\n",
            " 309.66762769 253.64938009 288.52213528 321.98754164 278.66391431\n",
            " 284.78904156 327.94082948 233.11678925 264.84247236 330.62183789\n",
            " 251.30238859]\n"
          ]
        }
      ]
    },
    {
      "cell_type": "code",
      "execution_count": 275,
      "id": "e7bd09f9",
      "metadata": {
        "colab": {
          "base_uri": "https://localhost:8080/"
        },
        "id": "e7bd09f9",
        "outputId": "9490e9d3-dd76-4881-f23b-54b608005f30"
      },
      "outputs": [
        {
          "output_type": "execute_result",
          "data": {
            "text/plain": [
              "(51,)"
            ]
          },
          "metadata": {},
          "execution_count": 275
        }
      ],
      "source": [
        "predicted.shape"
      ]
    },
    {
      "cell_type": "code",
      "execution_count": 276,
      "id": "7efc3dbd",
      "metadata": {
        "colab": {
          "base_uri": "https://localhost:8080/"
        },
        "id": "7efc3dbd",
        "outputId": "e1a3e984-499d-43ce-9ec4-29f3e65011f4"
      },
      "outputs": [
        {
          "output_type": "stream",
          "name": "stdout",
          "text": [
            "    Actual_Price  Predicted_price\n",
            "0     334.570007       333.222047\n",
            "1     310.109985       307.906752\n",
            "2     280.510010       280.693567\n",
            "3     338.149994       340.125974\n",
            "4     333.559998       333.931921\n",
            "5     332.470001       329.190821\n",
            "6     328.600006       331.270409\n",
            "7     276.200012       272.780380\n",
            "8     269.320007       268.869854\n",
            "9     334.290009       333.119354\n",
            "10    335.049988       334.266671\n",
            "11    332.059998       330.982676\n",
            "12    285.760010       284.784927\n",
            "13    321.859985       323.126816\n",
            "14    304.399994       306.352631\n",
            "15    251.110001       250.126430\n",
            "16    334.269989       334.531337\n",
            "17    329.910004       331.008711\n",
            "18    327.500000       327.541901\n",
            "19    287.179993       288.836877\n",
            "20    337.989990       338.505949\n",
            "21    240.220001       239.779680\n",
            "22    327.890015       329.673383\n",
            "23    295.369995       295.819603\n",
            "24    327.760010       328.713363\n",
            "25    276.380005       277.389346\n",
            "26    247.490005       248.567892\n",
            "27    258.350006       261.589394\n",
            "28    356.529999       356.733369\n",
            "29    227.119995       230.853374\n",
            "30    319.970001       321.925552\n",
            "31    254.149994       255.451141\n",
            "32    275.420013       277.981839\n",
            "33    327.730011       328.520039\n",
            "34    336.059998       335.775150\n",
            "35    335.399994       335.558438\n",
            "36    345.730011       343.893050\n",
            "37    242.050003       244.406109\n",
            "38    249.009995       249.108735\n",
            "39    314.000000       312.973420\n",
            "40    310.649994       309.667628\n",
            "41    254.690002       253.649380\n",
            "42    286.109985       288.522135\n",
            "43    320.769989       321.987542\n",
            "44    280.570007       278.663914\n",
            "45    284.339996       284.789042\n",
            "46    328.790009       327.940829\n",
            "47    231.929993       233.116789\n",
            "48    262.149994       264.842472\n",
            "49    327.779999       330.621838\n",
            "50    249.419998       251.302389\n"
          ]
        }
      ],
      "source": [
        "#Actual Price VS Predicted Price\n",
        "dframe = pd.DataFrame(y_test,predicted)\n",
        "dfr=pd.DataFrame({'Actual_Price':y_test,\"Predicted_price\":predicted})\n",
        "print(dfr)"
      ]
    },
    {
      "cell_type": "markdown",
      "id": "cdc0a805",
      "metadata": {
        "id": "cdc0a805"
      },
      "source": [
        "Stats for Predicted"
      ]
    },
    {
      "cell_type": "code",
      "execution_count": 277,
      "id": "03ae8ec9",
      "metadata": {
        "colab": {
          "base_uri": "https://localhost:8080/",
          "height": 676
        },
        "id": "03ae8ec9",
        "outputId": "5c0cce2b-b3e5-4981-ee0e-483a33dca4ce"
      },
      "outputs": [
        {
          "output_type": "execute_result",
          "data": {
            "text/plain": [
              "    Actual_Price  Predicted_price\n",
              "0     334.570007       333.222047\n",
              "1     310.109985       307.906752\n",
              "2     280.510010       280.693567\n",
              "3     338.149994       340.125974\n",
              "4     333.559998       333.931921\n",
              "5     332.470001       329.190821\n",
              "6     328.600006       331.270409\n",
              "7     276.200012       272.780380\n",
              "8     269.320007       268.869854\n",
              "9     334.290009       333.119354\n",
              "10    335.049988       334.266671\n",
              "11    332.059998       330.982676\n",
              "12    285.760010       284.784927\n",
              "13    321.859985       323.126816\n",
              "14    304.399994       306.352631\n",
              "15    251.110001       250.126430\n",
              "16    334.269989       334.531337\n",
              "17    329.910004       331.008711\n",
              "18    327.500000       327.541901\n",
              "19    287.179993       288.836877"
            ],
            "text/html": [
              "\n",
              "  <div id=\"df-60985d96-8dd2-4a31-bca8-abf3aee9e778\" class=\"colab-df-container\">\n",
              "    <div>\n",
              "<style scoped>\n",
              "    .dataframe tbody tr th:only-of-type {\n",
              "        vertical-align: middle;\n",
              "    }\n",
              "\n",
              "    .dataframe tbody tr th {\n",
              "        vertical-align: top;\n",
              "    }\n",
              "\n",
              "    .dataframe thead th {\n",
              "        text-align: right;\n",
              "    }\n",
              "</style>\n",
              "<table border=\"1\" class=\"dataframe\">\n",
              "  <thead>\n",
              "    <tr style=\"text-align: right;\">\n",
              "      <th></th>\n",
              "      <th>Actual_Price</th>\n",
              "      <th>Predicted_price</th>\n",
              "    </tr>\n",
              "  </thead>\n",
              "  <tbody>\n",
              "    <tr>\n",
              "      <th>0</th>\n",
              "      <td>334.570007</td>\n",
              "      <td>333.222047</td>\n",
              "    </tr>\n",
              "    <tr>\n",
              "      <th>1</th>\n",
              "      <td>310.109985</td>\n",
              "      <td>307.906752</td>\n",
              "    </tr>\n",
              "    <tr>\n",
              "      <th>2</th>\n",
              "      <td>280.510010</td>\n",
              "      <td>280.693567</td>\n",
              "    </tr>\n",
              "    <tr>\n",
              "      <th>3</th>\n",
              "      <td>338.149994</td>\n",
              "      <td>340.125974</td>\n",
              "    </tr>\n",
              "    <tr>\n",
              "      <th>4</th>\n",
              "      <td>333.559998</td>\n",
              "      <td>333.931921</td>\n",
              "    </tr>\n",
              "    <tr>\n",
              "      <th>5</th>\n",
              "      <td>332.470001</td>\n",
              "      <td>329.190821</td>\n",
              "    </tr>\n",
              "    <tr>\n",
              "      <th>6</th>\n",
              "      <td>328.600006</td>\n",
              "      <td>331.270409</td>\n",
              "    </tr>\n",
              "    <tr>\n",
              "      <th>7</th>\n",
              "      <td>276.200012</td>\n",
              "      <td>272.780380</td>\n",
              "    </tr>\n",
              "    <tr>\n",
              "      <th>8</th>\n",
              "      <td>269.320007</td>\n",
              "      <td>268.869854</td>\n",
              "    </tr>\n",
              "    <tr>\n",
              "      <th>9</th>\n",
              "      <td>334.290009</td>\n",
              "      <td>333.119354</td>\n",
              "    </tr>\n",
              "    <tr>\n",
              "      <th>10</th>\n",
              "      <td>335.049988</td>\n",
              "      <td>334.266671</td>\n",
              "    </tr>\n",
              "    <tr>\n",
              "      <th>11</th>\n",
              "      <td>332.059998</td>\n",
              "      <td>330.982676</td>\n",
              "    </tr>\n",
              "    <tr>\n",
              "      <th>12</th>\n",
              "      <td>285.760010</td>\n",
              "      <td>284.784927</td>\n",
              "    </tr>\n",
              "    <tr>\n",
              "      <th>13</th>\n",
              "      <td>321.859985</td>\n",
              "      <td>323.126816</td>\n",
              "    </tr>\n",
              "    <tr>\n",
              "      <th>14</th>\n",
              "      <td>304.399994</td>\n",
              "      <td>306.352631</td>\n",
              "    </tr>\n",
              "    <tr>\n",
              "      <th>15</th>\n",
              "      <td>251.110001</td>\n",
              "      <td>250.126430</td>\n",
              "    </tr>\n",
              "    <tr>\n",
              "      <th>16</th>\n",
              "      <td>334.269989</td>\n",
              "      <td>334.531337</td>\n",
              "    </tr>\n",
              "    <tr>\n",
              "      <th>17</th>\n",
              "      <td>329.910004</td>\n",
              "      <td>331.008711</td>\n",
              "    </tr>\n",
              "    <tr>\n",
              "      <th>18</th>\n",
              "      <td>327.500000</td>\n",
              "      <td>327.541901</td>\n",
              "    </tr>\n",
              "    <tr>\n",
              "      <th>19</th>\n",
              "      <td>287.179993</td>\n",
              "      <td>288.836877</td>\n",
              "    </tr>\n",
              "  </tbody>\n",
              "</table>\n",
              "</div>\n",
              "    <div class=\"colab-df-buttons\">\n",
              "\n",
              "  <div class=\"colab-df-container\">\n",
              "    <button class=\"colab-df-convert\" onclick=\"convertToInteractive('df-60985d96-8dd2-4a31-bca8-abf3aee9e778')\"\n",
              "            title=\"Convert this dataframe to an interactive table.\"\n",
              "            style=\"display:none;\">\n",
              "\n",
              "  <svg xmlns=\"http://www.w3.org/2000/svg\" height=\"24px\" viewBox=\"0 -960 960 960\">\n",
              "    <path d=\"M120-120v-720h720v720H120Zm60-500h600v-160H180v160Zm220 220h160v-160H400v160Zm0 220h160v-160H400v160ZM180-400h160v-160H180v160Zm440 0h160v-160H620v160ZM180-180h160v-160H180v160Zm440 0h160v-160H620v160Z\"/>\n",
              "  </svg>\n",
              "    </button>\n",
              "\n",
              "  <style>\n",
              "    .colab-df-container {\n",
              "      display:flex;\n",
              "      gap: 12px;\n",
              "    }\n",
              "\n",
              "    .colab-df-convert {\n",
              "      background-color: #E8F0FE;\n",
              "      border: none;\n",
              "      border-radius: 50%;\n",
              "      cursor: pointer;\n",
              "      display: none;\n",
              "      fill: #1967D2;\n",
              "      height: 32px;\n",
              "      padding: 0 0 0 0;\n",
              "      width: 32px;\n",
              "    }\n",
              "\n",
              "    .colab-df-convert:hover {\n",
              "      background-color: #E2EBFA;\n",
              "      box-shadow: 0px 1px 2px rgba(60, 64, 67, 0.3), 0px 1px 3px 1px rgba(60, 64, 67, 0.15);\n",
              "      fill: #174EA6;\n",
              "    }\n",
              "\n",
              "    .colab-df-buttons div {\n",
              "      margin-bottom: 4px;\n",
              "    }\n",
              "\n",
              "    [theme=dark] .colab-df-convert {\n",
              "      background-color: #3B4455;\n",
              "      fill: #D2E3FC;\n",
              "    }\n",
              "\n",
              "    [theme=dark] .colab-df-convert:hover {\n",
              "      background-color: #434B5C;\n",
              "      box-shadow: 0px 1px 3px 1px rgba(0, 0, 0, 0.15);\n",
              "      filter: drop-shadow(0px 1px 2px rgba(0, 0, 0, 0.3));\n",
              "      fill: #FFFFFF;\n",
              "    }\n",
              "  </style>\n",
              "\n",
              "    <script>\n",
              "      const buttonEl =\n",
              "        document.querySelector('#df-60985d96-8dd2-4a31-bca8-abf3aee9e778 button.colab-df-convert');\n",
              "      buttonEl.style.display =\n",
              "        google.colab.kernel.accessAllowed ? 'block' : 'none';\n",
              "\n",
              "      async function convertToInteractive(key) {\n",
              "        const element = document.querySelector('#df-60985d96-8dd2-4a31-bca8-abf3aee9e778');\n",
              "        const dataTable =\n",
              "          await google.colab.kernel.invokeFunction('convertToInteractive',\n",
              "                                                    [key], {});\n",
              "        if (!dataTable) return;\n",
              "\n",
              "        const docLinkHtml = 'Like what you see? Visit the ' +\n",
              "          '<a target=\"_blank\" href=https://colab.research.google.com/notebooks/data_table.ipynb>data table notebook</a>'\n",
              "          + ' to learn more about interactive tables.';\n",
              "        element.innerHTML = '';\n",
              "        dataTable['output_type'] = 'display_data';\n",
              "        await google.colab.output.renderOutput(dataTable, element);\n",
              "        const docLink = document.createElement('div');\n",
              "        docLink.innerHTML = docLinkHtml;\n",
              "        element.appendChild(docLink);\n",
              "      }\n",
              "    </script>\n",
              "  </div>\n",
              "\n",
              "\n",
              "<div id=\"df-29f63bc0-3aa1-4478-b5c0-713a5458b7d5\">\n",
              "  <button class=\"colab-df-quickchart\" onclick=\"quickchart('df-29f63bc0-3aa1-4478-b5c0-713a5458b7d5')\"\n",
              "            title=\"Suggest charts\"\n",
              "            style=\"display:none;\">\n",
              "\n",
              "<svg xmlns=\"http://www.w3.org/2000/svg\" height=\"24px\"viewBox=\"0 0 24 24\"\n",
              "     width=\"24px\">\n",
              "    <g>\n",
              "        <path d=\"M19 3H5c-1.1 0-2 .9-2 2v14c0 1.1.9 2 2 2h14c1.1 0 2-.9 2-2V5c0-1.1-.9-2-2-2zM9 17H7v-7h2v7zm4 0h-2V7h2v10zm4 0h-2v-4h2v4z\"/>\n",
              "    </g>\n",
              "</svg>\n",
              "  </button>\n",
              "\n",
              "<style>\n",
              "  .colab-df-quickchart {\n",
              "      --bg-color: #E8F0FE;\n",
              "      --fill-color: #1967D2;\n",
              "      --hover-bg-color: #E2EBFA;\n",
              "      --hover-fill-color: #174EA6;\n",
              "      --disabled-fill-color: #AAA;\n",
              "      --disabled-bg-color: #DDD;\n",
              "  }\n",
              "\n",
              "  [theme=dark] .colab-df-quickchart {\n",
              "      --bg-color: #3B4455;\n",
              "      --fill-color: #D2E3FC;\n",
              "      --hover-bg-color: #434B5C;\n",
              "      --hover-fill-color: #FFFFFF;\n",
              "      --disabled-bg-color: #3B4455;\n",
              "      --disabled-fill-color: #666;\n",
              "  }\n",
              "\n",
              "  .colab-df-quickchart {\n",
              "    background-color: var(--bg-color);\n",
              "    border: none;\n",
              "    border-radius: 50%;\n",
              "    cursor: pointer;\n",
              "    display: none;\n",
              "    fill: var(--fill-color);\n",
              "    height: 32px;\n",
              "    padding: 0;\n",
              "    width: 32px;\n",
              "  }\n",
              "\n",
              "  .colab-df-quickchart:hover {\n",
              "    background-color: var(--hover-bg-color);\n",
              "    box-shadow: 0 1px 2px rgba(60, 64, 67, 0.3), 0 1px 3px 1px rgba(60, 64, 67, 0.15);\n",
              "    fill: var(--button-hover-fill-color);\n",
              "  }\n",
              "\n",
              "  .colab-df-quickchart-complete:disabled,\n",
              "  .colab-df-quickchart-complete:disabled:hover {\n",
              "    background-color: var(--disabled-bg-color);\n",
              "    fill: var(--disabled-fill-color);\n",
              "    box-shadow: none;\n",
              "  }\n",
              "\n",
              "  .colab-df-spinner {\n",
              "    border: 2px solid var(--fill-color);\n",
              "    border-color: transparent;\n",
              "    border-bottom-color: var(--fill-color);\n",
              "    animation:\n",
              "      spin 1s steps(1) infinite;\n",
              "  }\n",
              "\n",
              "  @keyframes spin {\n",
              "    0% {\n",
              "      border-color: transparent;\n",
              "      border-bottom-color: var(--fill-color);\n",
              "      border-left-color: var(--fill-color);\n",
              "    }\n",
              "    20% {\n",
              "      border-color: transparent;\n",
              "      border-left-color: var(--fill-color);\n",
              "      border-top-color: var(--fill-color);\n",
              "    }\n",
              "    30% {\n",
              "      border-color: transparent;\n",
              "      border-left-color: var(--fill-color);\n",
              "      border-top-color: var(--fill-color);\n",
              "      border-right-color: var(--fill-color);\n",
              "    }\n",
              "    40% {\n",
              "      border-color: transparent;\n",
              "      border-right-color: var(--fill-color);\n",
              "      border-top-color: var(--fill-color);\n",
              "    }\n",
              "    60% {\n",
              "      border-color: transparent;\n",
              "      border-right-color: var(--fill-color);\n",
              "    }\n",
              "    80% {\n",
              "      border-color: transparent;\n",
              "      border-right-color: var(--fill-color);\n",
              "      border-bottom-color: var(--fill-color);\n",
              "    }\n",
              "    90% {\n",
              "      border-color: transparent;\n",
              "      border-bottom-color: var(--fill-color);\n",
              "    }\n",
              "  }\n",
              "</style>\n",
              "\n",
              "  <script>\n",
              "    async function quickchart(key) {\n",
              "      const quickchartButtonEl =\n",
              "        document.querySelector('#' + key + ' button');\n",
              "      quickchartButtonEl.disabled = true;  // To prevent multiple clicks.\n",
              "      quickchartButtonEl.classList.add('colab-df-spinner');\n",
              "      try {\n",
              "        const charts = await google.colab.kernel.invokeFunction(\n",
              "            'suggestCharts', [key], {});\n",
              "      } catch (error) {\n",
              "        console.error('Error during call to suggestCharts:', error);\n",
              "      }\n",
              "      quickchartButtonEl.classList.remove('colab-df-spinner');\n",
              "      quickchartButtonEl.classList.add('colab-df-quickchart-complete');\n",
              "    }\n",
              "    (() => {\n",
              "      let quickchartButtonEl =\n",
              "        document.querySelector('#df-29f63bc0-3aa1-4478-b5c0-713a5458b7d5 button');\n",
              "      quickchartButtonEl.style.display =\n",
              "        google.colab.kernel.accessAllowed ? 'block' : 'none';\n",
              "    })();\n",
              "  </script>\n",
              "</div>\n",
              "    </div>\n",
              "  </div>\n"
            ]
          },
          "metadata": {},
          "execution_count": 277
        }
      ],
      "source": [
        "dfr.head(20)"
      ]
    },
    {
      "cell_type": "code",
      "execution_count": 278,
      "id": "d2ca8e8d",
      "metadata": {
        "colab": {
          "base_uri": "https://localhost:8080/"
        },
        "id": "d2ca8e8d",
        "outputId": "c7aa325f-eef8-4c9f-e217-690d6d8037a8"
      },
      "outputs": [
        {
          "output_type": "stream",
          "name": "stdout",
          "text": [
            "p value is :0.04745968180294733\n"
          ]
        }
      ],
      "source": [
        "import scipy.stats\n",
        "\n",
        "p_value = scipy.stats.norm.sf(abs(1.67))\n",
        "print('p value is :' + str(p_value))"
      ]
    },
    {
      "cell_type": "code",
      "execution_count": 279,
      "id": "19e7635f",
      "metadata": {
        "colab": {
          "base_uri": "https://localhost:8080/"
        },
        "id": "19e7635f",
        "outputId": "973c2354-7872-4fc4-af52-78ce69131206"
      },
      "outputs": [
        {
          "output_type": "stream",
          "name": "stdout",
          "text": [
            "Linear Regression Confidence 0.9978136570514007\n"
          ]
        }
      ],
      "source": [
        "from sklearn.metrics import confusion_matrix, accuracy_score\n",
        "regression_confidence = regressor.score(X_test,y_test)\n",
        "print(\"Linear Regression Confidence\", regression_confidence)"
      ]
    },
    {
      "cell_type": "code",
      "execution_count": 280,
      "id": "73ea4db9",
      "metadata": {
        "colab": {
          "base_uri": "https://localhost:8080/"
        },
        "id": "73ea4db9",
        "outputId": "f896c951-c355-447a-9c24-a71407287099"
      },
      "outputs": [
        {
          "output_type": "stream",
          "name": "stdout",
          "text": [
            "Accuracy: 99.52 %\n"
          ]
        }
      ],
      "source": [
        "x2= abs(predicted-y_test)\n",
        "y2= 100*(x2/ y_test)\n",
        "accuracy = 100-np.mean(y2)\n",
        "print(\"Accuracy:\", round(accuracy, 2), '%')"
      ]
    },
    {
      "cell_type": "code",
      "execution_count": 281,
      "id": "213efea6",
      "metadata": {
        "colab": {
          "base_uri": "https://localhost:8080/",
          "height": 449
        },
        "id": "213efea6",
        "outputId": "e72e8512-f205-4ea7-92fc-565094f90d23"
      },
      "outputs": [
        {
          "output_type": "display_data",
          "data": {
            "text/plain": [
              "<Figure size 640x480 with 1 Axes>"
            ],
            "image/png": "[encoded data removed]"
          },
          "metadata": {}
        }
      ],
      "source": [
        "plt.scatter(dfr.Actual_Price, dfr.Predicted_price, color=\"Darkblue\")\n",
        "plt.xlabel(\"Actual Price\")\n",
        "plt.ylabel(\"Predicted Price\")\n",
        "plt.show()"
      ]
    },
    {
      "cell_type": "code",
      "execution_count": 282,
      "id": "545db2b7",
      "metadata": {
        "colab": {
          "base_uri": "https://localhost:8080/",
          "height": 452
        },
        "id": "545db2b7",
        "outputId": "bec9daf2-3cec-409c-83d3-16a562c2d43f"
      },
      "outputs": [
        {
          "output_type": "execute_result",
          "data": {
            "text/plain": [
              "<Axes: >"
            ]
          },
          "metadata": {},
          "execution_count": 282
        },
        {
          "output_type": "display_data",
          "data": {
            "text/plain": [
              "<Figure size 640x480 with 1 Axes>"
            ],
            "image/png": "[encoded data removed]"
          },
          "metadata": {}
        }
      ],
      "source": [
        "#Plotting the First 15 Predicted and Actual Price\n",
        "graph = dfr.head(15)\n",
        "graph.plot(kind='bar')"
      ]
    },
    {
      "cell_type": "code",
      "source": [
        "from sklearn.ensemble import RandomForestRegressor\n",
        "rfr_regressor = RandomForestRegressor(n_estimators = 10, random_state = 0)\n",
        "rfr_regressor.fit(X, y)\n",
        "rfr_predicted = rfr_regressor.predict(X_test)\n",
        "#print(rfr_predicted)\n",
        "print(\"---------------------------------------------------------------------\")\n",
        "#Actual Price VS Predicted Price\n",
        "drframe = pd.DataFrame(y_test,rfr_predicted)\n",
        "drfr=pd.DataFrame({'Actual_Price':y_test,\"Predicted_price\":rfr_predicted})\n",
        "print(drfr)\n",
        "print(\"---------------------------------------------------------------------\")\n",
        "from sklearn.metrics import confusion_matrix, accuracy_score\n",
        "rfr_regression_confidence = rfr_regressor.score(X_test,y_test)\n",
        "print(\"Random Forest Regression Confidence\", rfr_regression_confidence)\n",
        "print(\"---------------------------------------------------------------------\")\n",
        "x4= abs(rfr_predicted-y_test)\n",
        "y4= 100*(x4/ y_test)\n",
        "rfr_accuracy = 100-np.mean(y4)\n",
        "print(\"Accuracy:\", round(rfr_accuracy, 2), '%')\n",
        "print(\"---------------------------------------------------------------------\")\n",
        "#Plotting the First 15 Predicted and Actual Price\n",
        "graph = drfr.head(15)\n",
        "graph.plot(kind='bar')"
      ],
      "metadata": {
        "colab": {
          "base_uri": "https://localhost:8080/",
          "height": 1000
        },
        "id": "2JA42jGgBFi0",
        "outputId": "d73577c7-4824-4f18-e29d-3a0e89d78051"
      },
      "id": "2JA42jGgBFi0",
      "execution_count": 283,
      "outputs": [
        {
          "output_type": "stream",
          "name": "stdout",
          "text": [
            "---------------------------------------------------------------------\n",
            "    Actual_Price  Predicted_price\n",
            "0     334.570007       333.463003\n",
            "1     310.109985       309.995987\n",
            "2     280.510010       280.013004\n",
            "3     338.149994       338.054996\n",
            "4     333.559998       333.560999\n",
            "5     332.470001       332.408002\n",
            "6     328.600006       330.191000\n",
            "7     276.200012       272.350006\n",
            "8     269.320007       270.051007\n",
            "9     334.290009       333.982007\n",
            "10    335.049988       334.916992\n",
            "11    332.059998       332.059998\n",
            "12    285.760010       285.549005\n",
            "13    321.859985       322.251993\n",
            "14    304.399994       304.833997\n",
            "15    251.110001       250.626001\n",
            "16    334.269989       333.986996\n",
            "17    329.910004       329.778003\n",
            "18    327.500000       327.786999\n",
            "19    287.179993       288.094995\n",
            "20    337.989990       338.121997\n",
            "21    240.220001       239.680000\n",
            "22    327.890015       330.230008\n",
            "23    295.369995       296.731992\n",
            "24    327.760010       328.410007\n",
            "25    276.380005       276.799005\n",
            "26    247.490005       248.278003\n",
            "27    258.350006       258.292004\n",
            "28    356.529999       353.095996\n",
            "29    227.119995       228.111998\n",
            "30    319.970001       320.645001\n",
            "31    254.149994       254.535994\n",
            "32    275.420013       275.613009\n",
            "33    327.730011       328.581006\n",
            "34    336.059998       334.991001\n",
            "35    335.399994       334.480997\n",
            "36    345.730011       345.854999\n",
            "37    242.050003       242.184003\n",
            "38    249.009995       250.099996\n",
            "39    314.000000       313.613004\n",
            "40    310.649994       309.402997\n",
            "41    254.690002       254.185000\n",
            "42    286.109985       286.810989\n",
            "43    320.769989       321.795999\n",
            "44    280.570007       279.083008\n",
            "45    284.339996       285.167001\n",
            "46    328.790009       328.789002\n",
            "47    231.929993       234.974998\n",
            "48    262.149994       262.478995\n",
            "49    327.779999       329.050995\n",
            "50    249.419998       249.744998\n",
            "---------------------------------------------------------------------\n",
            "Random Forest Regression Confidence 0.9990113817052951\n",
            "---------------------------------------------------------------------\n",
            "Accuracy: 99.74 %\n",
            "---------------------------------------------------------------------\n"
          ]
        },
        {
          "output_type": "execute_result",
          "data": {
            "text/plain": [
              "<Axes: >"
            ]
          },
          "metadata": {},
          "execution_count": 283
        },
        {
          "output_type": "display_data",
          "data": {
            "text/plain": [
              "<Figure size 640x480 with 1 Axes>"
            ],
            "image/png": "[encoded data removed]"
          },
          "metadata": {}
        }
      ]
    },
    {
      "cell_type": "code",
      "source": [
        "from sklearn.tree import DecisionTreeRegressor\n",
        "dtr_regressor = DecisionTreeRegressor(random_state = 0)\n",
        "dtr_regressor.fit(X, y)\n",
        "dtr_predicted = dtr_regressor.predict(X_test)\n",
        "#print(dtr_predicted)\n",
        "print(\"---------------------------------------------------------------------\")\n",
        "#Actual Price VS Predicted Price\n",
        "dtframe = pd.DataFrame(y_test,dtr_predicted)\n",
        "dtfr=pd.DataFrame({'Actual_Price':y_test,\"Predicted_price\":dtr_predicted})\n",
        "print(dtfr)\n",
        "print(\"---------------------------------------------------------------------\")\n",
        "from sklearn.metrics import confusion_matrix, accuracy_score\n",
        "dtr_regression_confidence = dtr_regressor.score(X_test,y_test)\n",
        "print(\"Decision Tree Regression Confidence\", dtr_regression_confidence)\n",
        "print(\"---------------------------------------------------------------------\")\n",
        "x3= abs(dtr_predicted-y_test)\n",
        "y3= 100*(x3/ y_test)\n",
        "dtr_accuracy = 100-np.mean(y3)\n",
        "print(\"Accuracy:\", round(dtr_accuracy, 2), '%')\n",
        "print(\"---------------------------------------------------------------------\")\n",
        "#Plotting the First 15 Predicted and Actual Price\n",
        "graph = dtfr.head(15)\n",
        "graph.plot(kind='bar')"
      ],
      "metadata": {
        "colab": {
          "base_uri": "https://localhost:8080/",
          "height": 1000
        },
        "id": "WwVqroPNCxnN",
        "outputId": "87844a1d-76aa-43b6-ee69-3e578eec8af2"
      },
      "id": "WwVqroPNCxnN",
      "execution_count": 284,
      "outputs": [
        {
          "output_type": "stream",
          "name": "stdout",
          "text": [
            "---------------------------------------------------------------------\n",
            "    Actual_Price  Predicted_price\n",
            "0     334.570007       334.570007\n",
            "1     310.109985       310.109985\n",
            "2     280.510010       280.510010\n",
            "3     338.149994       338.149994\n",
            "4     333.559998       333.559998\n",
            "5     332.470001       332.470001\n",
            "6     328.600006       328.600006\n",
            "7     276.200012       276.200012\n",
            "8     269.320007       269.320007\n",
            "9     334.290009       334.290009\n",
            "10    335.049988       335.049988\n",
            "11    332.059998       332.059998\n",
            "12    285.760010       285.760010\n",
            "13    321.859985       321.859985\n",
            "14    304.399994       304.399994\n",
            "15    251.110001       251.110001\n",
            "16    334.269989       334.269989\n",
            "17    329.910004       329.910004\n",
            "18    327.500000       327.500000\n",
            "19    287.179993       287.179993\n",
            "20    337.989990       337.989990\n",
            "21    240.220001       240.220001\n",
            "22    327.890015       327.890015\n",
            "23    295.369995       295.369995\n",
            "24    327.760010       327.760010\n",
            "25    276.380005       276.380005\n",
            "26    247.490005       247.490005\n",
            "27    258.350006       258.350006\n",
            "28    356.529999       356.529999\n",
            "29    227.119995       227.119995\n",
            "30    319.970001       319.970001\n",
            "31    254.149994       254.149994\n",
            "32    275.420013       275.420013\n",
            "33    327.730011       327.730011\n",
            "34    336.059998       336.059998\n",
            "35    335.399994       335.399994\n",
            "36    345.730011       345.730011\n",
            "37    242.050003       242.050003\n",
            "38    249.009995       249.009995\n",
            "39    314.000000       314.000000\n",
            "40    310.649994       310.649994\n",
            "41    254.690002       254.690002\n",
            "42    286.109985       286.109985\n",
            "43    320.769989       320.769989\n",
            "44    280.570007       280.570007\n",
            "45    284.339996       284.339996\n",
            "46    328.790009       328.790009\n",
            "47    231.929993       231.929993\n",
            "48    262.149994       262.149994\n",
            "49    327.779999       327.779999\n",
            "50    249.419998       249.419998\n",
            "---------------------------------------------------------------------\n",
            "Decision Tree Regression Confidence 1.0\n",
            "---------------------------------------------------------------------\n",
            "Accuracy: 100.0 %\n",
            "---------------------------------------------------------------------\n"
          ]
        },
        {
          "output_type": "execute_result",
          "data": {
            "text/plain": [
              "<Axes: >"
            ]
          },
          "metadata": {},
          "execution_count": 284
        },
        {
          "output_type": "display_data",
          "data": {
            "text/plain": [
              "<Figure size 640x480 with 1 Axes>"
            ],
            "image/png": "[encoded data removed]"
          },
          "metadata": {}
        }
      ]
    },
    {
      "cell_type": "code",
      "source": [
        "from sklearn.svm import SVR\n",
        "svr_regressor = SVR(kernel = 'rbf')\n",
        "svr_regressor.fit(X, y)\n",
        "svr_predicted = svr_regressor.predict(X_test)\n",
        "#print(svr_predicted)\n",
        "print(\"---------------------------------------------------------------------\")\n",
        "#Actual Price VS Predicted Price\n",
        "dsframe = pd.DataFrame(y_test,svr_predicted)\n",
        "dsfr=pd.DataFrame({'Actual_Price':y_test,\"Predicted_price\":svr_predicted})\n",
        "print(dsfr)\n",
        "print(\"---------------------------------------------------------------------\")\n",
        "from sklearn.metrics import confusion_matrix, accuracy_score\n",
        "svr_regression_confidence = svr_regressor.score(X_test,y_test)\n",
        "print(\"Random Forest Regression Confidence\", svr_regression_confidence)\n",
        "print(\"---------------------------------------------------------------------\")\n",
        "x5= abs(svr_predicted-y_test)\n",
        "y5= 100*(x5/ y_test)\n",
        "svr_accuracy = 100-np.mean(y5)\n",
        "print(\"Accuracy:\", round(svr_accuracy, 2), '%')\n",
        "print(\"---------------------------------------------------------------------\")\n",
        "#Plotting the First 15 Predicted and Actual Price\n",
        "graph = dsfr.head(10)\n",
        "graph.plot(kind='bar')"
      ],
      "metadata": {
        "colab": {
          "base_uri": "https://localhost:8080/",
          "height": 1000
        },
        "id": "Vq8V8qj7DbcQ",
        "outputId": "c98b5939-82e7-4d8f-abe1-04e8abfe66ec"
      },
      "id": "Vq8V8qj7DbcQ",
      "execution_count": 285,
      "outputs": [
        {
          "output_type": "stream",
          "name": "stdout",
          "text": [
            "---------------------------------------------------------------------\n",
            "    Actual_Price  Predicted_price\n",
            "0     334.570007       313.468043\n",
            "1     310.109985       307.947072\n",
            "2     280.510010       312.926486\n",
            "3     338.149994       317.426368\n",
            "4     333.559998       312.903531\n",
            "5     332.470001       311.709960\n",
            "6     328.600006       315.445087\n",
            "7     276.200012       301.505971\n",
            "8     269.320007       310.008449\n",
            "9     334.290009       314.473743\n",
            "10    335.049988       318.004049\n",
            "11    332.059998       317.339391\n",
            "12    285.760010       315.342417\n",
            "13    321.859985       318.018225\n",
            "14    304.399994       314.882136\n",
            "15    251.110001       313.133590\n",
            "16    334.269989       316.678791\n",
            "17    329.910004       317.316929\n",
            "18    327.500000       310.896789\n",
            "19    287.179993       312.373341\n",
            "20    337.989990       319.545812\n",
            "21    240.220001       305.435775\n",
            "22    327.890015       304.041383\n",
            "23    295.369995       303.673532\n",
            "24    327.760010       311.928693\n",
            "25    276.380005       311.601609\n",
            "26    247.490005       319.973591\n",
            "27    258.350006       309.890374\n",
            "28    356.529999       313.850270\n",
            "29    227.119995       311.196653\n",
            "30    319.970001       314.241303\n",
            "31    254.149994       315.476161\n",
            "32    275.420013       301.345564\n",
            "33    327.730011       315.735810\n",
            "34    336.059998       318.208211\n",
            "35    335.399994       312.343363\n",
            "36    345.730011       316.180534\n",
            "37    242.050003       311.941089\n",
            "38    249.009995       305.330734\n",
            "39    314.000000       313.496661\n",
            "40    310.649994       310.575123\n",
            "41    254.690002       312.209122\n",
            "42    286.109985       314.267496\n",
            "43    320.769989       315.500168\n",
            "44    280.570007       310.582168\n",
            "45    284.339996       315.083009\n",
            "46    328.790009       318.743751\n",
            "47    231.929993       310.237072\n",
            "48    262.149994       309.490566\n",
            "49    327.779999       313.922724\n",
            "50    249.419998       314.792946\n",
            "---------------------------------------------------------------------\n",
            "Random Forest Regression Confidence -0.055067561854896585\n",
            "---------------------------------------------------------------------\n",
            "Accuracy: 89.13 %\n",
            "---------------------------------------------------------------------\n"
          ]
        },
        {
          "output_type": "execute_result",
          "data": {
            "text/plain": [
              "<Axes: >"
            ]
          },
          "metadata": {},
          "execution_count": 285
        },
        {
          "output_type": "display_data",
          "data": {
            "text/plain": [
              "<Figure size 640x480 with 1 Axes>"
            ],
            "image/png": "[encoded data removed]"
          },
          "metadata": {}
        }
      ]
    },
    {
      "cell_type": "code",
      "source": [],
      "metadata": {
        "id": "GQJNUmd5FAjq"
      },
      "id": "GQJNUmd5FAjq",
      "execution_count": 285,
      "outputs": []
    }
  ],
  "metadata": {
    "kernelspec": {
      "display_name": "Python 3 (ipykernel)",
      "language": "python",
      "name": "python3"
    },
    "language_info": {
      "codemirror_mode": {
        "name": "ipython",
        "version": 3
      },
      "file_extension": ".py",
      "mimetype": "text/x-python",
      "name": "python",
      "nbconvert_exporter": "python",
      "pygments_lexer": "ipython3",
      "version": "3.10.9"
    },
    "colab": {
      "provenance": []
    }
  },
  "nbformat": 4,
  "nbformat_minor": 5
}